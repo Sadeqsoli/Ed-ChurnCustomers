{
 "cells": [
  {
   "cell_type": "code",
   "execution_count": 42,
   "id": "8d89dc11-09a8-4690-8e15-cef48f6acba1",
   "metadata": {},
   "outputs": [],
   "source": [
    "import numpy as np \n",
    "import pandas as pd \n",
    "import matplotlib.pyplot as plt\n",
    "%matplotlib inline\n",
    "import tensorflow as tf\n",
    "from tensorflow import keras as krs\n"
   ]
  },
  {
   "cell_type": "code",
   "execution_count": 43,
   "id": "e68e7ae4-339c-4045-9e61-a0d4a08928c9",
   "metadata": {},
   "outputs": [
    {
     "data": {
      "text/html": [
       "<div>\n",
       "<style scoped>\n",
       "    .dataframe tbody tr th:only-of-type {\n",
       "        vertical-align: middle;\n",
       "    }\n",
       "\n",
       "    .dataframe tbody tr th {\n",
       "        vertical-align: top;\n",
       "    }\n",
       "\n",
       "    .dataframe thead th {\n",
       "        text-align: right;\n",
       "    }\n",
       "</style>\n",
       "<table border=\"1\" class=\"dataframe\">\n",
       "  <thead>\n",
       "    <tr style=\"text-align: right;\">\n",
       "      <th></th>\n",
       "      <th>0</th>\n",
       "      <th>1</th>\n",
       "      <th>2</th>\n",
       "      <th>3</th>\n",
       "      <th>4</th>\n",
       "      <th>5</th>\n",
       "      <th>6</th>\n",
       "      <th>7</th>\n",
       "      <th>8</th>\n",
       "      <th>9</th>\n",
       "      <th>...</th>\n",
       "      <th>51</th>\n",
       "      <th>52</th>\n",
       "      <th>53</th>\n",
       "      <th>54</th>\n",
       "      <th>55</th>\n",
       "      <th>56</th>\n",
       "      <th>57</th>\n",
       "      <th>58</th>\n",
       "      <th>59</th>\n",
       "      <th>60</th>\n",
       "    </tr>\n",
       "  </thead>\n",
       "  <tbody>\n",
       "    <tr>\n",
       "      <th>34</th>\n",
       "      <td>0.0311</td>\n",
       "      <td>0.0491</td>\n",
       "      <td>0.0692</td>\n",
       "      <td>0.0831</td>\n",
       "      <td>0.0079</td>\n",
       "      <td>0.0200</td>\n",
       "      <td>0.0981</td>\n",
       "      <td>0.1016</td>\n",
       "      <td>0.2025</td>\n",
       "      <td>0.0767</td>\n",
       "      <td>...</td>\n",
       "      <td>0.0087</td>\n",
       "      <td>0.0032</td>\n",
       "      <td>0.0130</td>\n",
       "      <td>0.0188</td>\n",
       "      <td>0.0101</td>\n",
       "      <td>0.0229</td>\n",
       "      <td>0.0182</td>\n",
       "      <td>0.0046</td>\n",
       "      <td>0.0038</td>\n",
       "      <td>R</td>\n",
       "    </tr>\n",
       "    <tr>\n",
       "      <th>24</th>\n",
       "      <td>0.0293</td>\n",
       "      <td>0.0644</td>\n",
       "      <td>0.0390</td>\n",
       "      <td>0.0173</td>\n",
       "      <td>0.0476</td>\n",
       "      <td>0.0816</td>\n",
       "      <td>0.0993</td>\n",
       "      <td>0.0315</td>\n",
       "      <td>0.0736</td>\n",
       "      <td>0.0860</td>\n",
       "      <td>...</td>\n",
       "      <td>0.0035</td>\n",
       "      <td>0.0052</td>\n",
       "      <td>0.0083</td>\n",
       "      <td>0.0078</td>\n",
       "      <td>0.0075</td>\n",
       "      <td>0.0105</td>\n",
       "      <td>0.0160</td>\n",
       "      <td>0.0095</td>\n",
       "      <td>0.0011</td>\n",
       "      <td>R</td>\n",
       "    </tr>\n",
       "    <tr>\n",
       "      <th>152</th>\n",
       "      <td>0.0131</td>\n",
       "      <td>0.0201</td>\n",
       "      <td>0.0045</td>\n",
       "      <td>0.0217</td>\n",
       "      <td>0.0230</td>\n",
       "      <td>0.0481</td>\n",
       "      <td>0.0742</td>\n",
       "      <td>0.0333</td>\n",
       "      <td>0.1369</td>\n",
       "      <td>0.2079</td>\n",
       "      <td>...</td>\n",
       "      <td>0.0168</td>\n",
       "      <td>0.0086</td>\n",
       "      <td>0.0045</td>\n",
       "      <td>0.0062</td>\n",
       "      <td>0.0065</td>\n",
       "      <td>0.0030</td>\n",
       "      <td>0.0066</td>\n",
       "      <td>0.0029</td>\n",
       "      <td>0.0053</td>\n",
       "      <td>M</td>\n",
       "    </tr>\n",
       "    <tr>\n",
       "      <th>151</th>\n",
       "      <td>0.0231</td>\n",
       "      <td>0.0315</td>\n",
       "      <td>0.0170</td>\n",
       "      <td>0.0226</td>\n",
       "      <td>0.0410</td>\n",
       "      <td>0.0116</td>\n",
       "      <td>0.0223</td>\n",
       "      <td>0.0805</td>\n",
       "      <td>0.2365</td>\n",
       "      <td>0.2461</td>\n",
       "      <td>...</td>\n",
       "      <td>0.0125</td>\n",
       "      <td>0.0036</td>\n",
       "      <td>0.0123</td>\n",
       "      <td>0.0043</td>\n",
       "      <td>0.0114</td>\n",
       "      <td>0.0052</td>\n",
       "      <td>0.0091</td>\n",
       "      <td>0.0008</td>\n",
       "      <td>0.0092</td>\n",
       "      <td>M</td>\n",
       "    </tr>\n",
       "    <tr>\n",
       "      <th>125</th>\n",
       "      <td>0.0228</td>\n",
       "      <td>0.0853</td>\n",
       "      <td>0.1000</td>\n",
       "      <td>0.0428</td>\n",
       "      <td>0.1117</td>\n",
       "      <td>0.1651</td>\n",
       "      <td>0.1597</td>\n",
       "      <td>0.2116</td>\n",
       "      <td>0.3295</td>\n",
       "      <td>0.3517</td>\n",
       "      <td>...</td>\n",
       "      <td>0.0172</td>\n",
       "      <td>0.0191</td>\n",
       "      <td>0.0260</td>\n",
       "      <td>0.0140</td>\n",
       "      <td>0.0125</td>\n",
       "      <td>0.0116</td>\n",
       "      <td>0.0093</td>\n",
       "      <td>0.0012</td>\n",
       "      <td>0.0036</td>\n",
       "      <td>M</td>\n",
       "    </tr>\n",
       "  </tbody>\n",
       "</table>\n",
       "<p>5 rows × 61 columns</p>\n",
       "</div>"
      ],
      "text/plain": [
       "         0       1       2       3       4       5       6       7       8   \\\n",
       "34   0.0311  0.0491  0.0692  0.0831  0.0079  0.0200  0.0981  0.1016  0.2025   \n",
       "24   0.0293  0.0644  0.0390  0.0173  0.0476  0.0816  0.0993  0.0315  0.0736   \n",
       "152  0.0131  0.0201  0.0045  0.0217  0.0230  0.0481  0.0742  0.0333  0.1369   \n",
       "151  0.0231  0.0315  0.0170  0.0226  0.0410  0.0116  0.0223  0.0805  0.2365   \n",
       "125  0.0228  0.0853  0.1000  0.0428  0.1117  0.1651  0.1597  0.2116  0.3295   \n",
       "\n",
       "         9   ...      51      52      53      54      55      56      57  \\\n",
       "34   0.0767  ...  0.0087  0.0032  0.0130  0.0188  0.0101  0.0229  0.0182   \n",
       "24   0.0860  ...  0.0035  0.0052  0.0083  0.0078  0.0075  0.0105  0.0160   \n",
       "152  0.2079  ...  0.0168  0.0086  0.0045  0.0062  0.0065  0.0030  0.0066   \n",
       "151  0.2461  ...  0.0125  0.0036  0.0123  0.0043  0.0114  0.0052  0.0091   \n",
       "125  0.3517  ...  0.0172  0.0191  0.0260  0.0140  0.0125  0.0116  0.0093   \n",
       "\n",
       "         58      59  60  \n",
       "34   0.0046  0.0038   R  \n",
       "24   0.0095  0.0011   R  \n",
       "152  0.0029  0.0053   M  \n",
       "151  0.0008  0.0092   M  \n",
       "125  0.0012  0.0036   M  \n",
       "\n",
       "[5 rows x 61 columns]"
      ]
     },
     "execution_count": 43,
     "metadata": {},
     "output_type": "execute_result"
    }
   ],
   "source": [
    "df = pd.read_csv('data/sonar_dataset.csv', header = None)\n",
    "df.sample(5)"
   ]
  },
  {
   "cell_type": "code",
   "execution_count": 44,
   "id": "489d04c5-7b18-4a6d-bfeb-0594a69c1bc0",
   "metadata": {},
   "outputs": [
    {
     "data": {
      "text/plain": [
       "(208, 61)"
      ]
     },
     "execution_count": 44,
     "metadata": {},
     "output_type": "execute_result"
    }
   ],
   "source": [
    "df.shape"
   ]
  },
  {
   "cell_type": "code",
   "execution_count": 45,
   "id": "d15865bf-8014-4ebf-816d-f0e6ffdd8a94",
   "metadata": {},
   "outputs": [
    {
     "data": {
      "text/plain": [
       "Index([ 0,  1,  2,  3,  4,  5,  6,  7,  8,  9, 10, 11, 12, 13, 14, 15, 16, 17,\n",
       "       18, 19, 20, 21, 22, 23, 24, 25, 26, 27, 28, 29, 30, 31, 32, 33, 34, 35,\n",
       "       36, 37, 38, 39, 40, 41, 42, 43, 44, 45, 46, 47, 48, 49, 50, 51, 52, 53,\n",
       "       54, 55, 56, 57, 58, 59, 60],\n",
       "      dtype='int64')"
      ]
     },
     "execution_count": 45,
     "metadata": {},
     "output_type": "execute_result"
    }
   ],
   "source": [
    "df.columns"
   ]
  },
  {
   "cell_type": "code",
   "execution_count": 46,
   "id": "5c49b1bb-629d-43c7-b661-b392cc271122",
   "metadata": {},
   "outputs": [
    {
     "data": {
      "text/plain": [
       "60\n",
       "M    111\n",
       "R     97\n",
       "Name: count, dtype: int64"
      ]
     },
     "execution_count": 46,
     "metadata": {},
     "output_type": "execute_result"
    }
   ],
   "source": [
    "df[60].value_counts()"
   ]
  },
  {
   "cell_type": "code",
   "execution_count": 47,
   "id": "f70970d5-cc81-417e-8dcc-b1fed12a82dd",
   "metadata": {},
   "outputs": [
    {
     "data": {
      "text/plain": [
       "0    R\n",
       "1    R\n",
       "2    R\n",
       "Name: 60, dtype: object"
      ]
     },
     "execution_count": 47,
     "metadata": {},
     "output_type": "execute_result"
    }
   ],
   "source": [
    "x = df.drop(60, axis = 1)\n",
    "y = df[60]\n",
    "y.head(3)"
   ]
  },
  {
   "cell_type": "code",
   "execution_count": 48,
   "id": "770e80f4-8721-4449-89ca-2882e11096b8",
   "metadata": {},
   "outputs": [
    {
     "data": {
      "text/html": [
       "<div>\n",
       "<style scoped>\n",
       "    .dataframe tbody tr th:only-of-type {\n",
       "        vertical-align: middle;\n",
       "    }\n",
       "\n",
       "    .dataframe tbody tr th {\n",
       "        vertical-align: top;\n",
       "    }\n",
       "\n",
       "    .dataframe thead th {\n",
       "        text-align: right;\n",
       "    }\n",
       "</style>\n",
       "<table border=\"1\" class=\"dataframe\">\n",
       "  <thead>\n",
       "    <tr style=\"text-align: right;\">\n",
       "      <th></th>\n",
       "      <th>R</th>\n",
       "    </tr>\n",
       "  </thead>\n",
       "  <tbody>\n",
       "    <tr>\n",
       "      <th>35</th>\n",
       "      <td>True</td>\n",
       "    </tr>\n",
       "    <tr>\n",
       "      <th>30</th>\n",
       "      <td>True</td>\n",
       "    </tr>\n",
       "    <tr>\n",
       "      <th>141</th>\n",
       "      <td>False</td>\n",
       "    </tr>\n",
       "    <tr>\n",
       "      <th>33</th>\n",
       "      <td>True</td>\n",
       "    </tr>\n",
       "    <tr>\n",
       "      <th>159</th>\n",
       "      <td>False</td>\n",
       "    </tr>\n",
       "    <tr>\n",
       "      <th>150</th>\n",
       "      <td>False</td>\n",
       "    </tr>\n",
       "  </tbody>\n",
       "</table>\n",
       "</div>"
      ],
      "text/plain": [
       "         R\n",
       "35    True\n",
       "30    True\n",
       "141  False\n",
       "33    True\n",
       "159  False\n",
       "150  False"
      ]
     },
     "execution_count": 48,
     "metadata": {},
     "output_type": "execute_result"
    }
   ],
   "source": [
    "y = pd.get_dummies(df[60], drop_first=True)\n",
    "y.sample(6)"
   ]
  },
  {
   "cell_type": "code",
   "execution_count": 49,
   "id": "7516ee8a-4544-48a2-a38a-5d9c7e59276d",
   "metadata": {},
   "outputs": [],
   "source": [
    "y.replace({True : 1, False : 0}, inplace = True)"
   ]
  },
  {
   "cell_type": "code",
   "execution_count": 51,
   "id": "b083c8cf-71e9-4230-b7ce-ac08e4a77453",
   "metadata": {},
   "outputs": [
    {
     "data": {
      "text/plain": [
       "R\n",
       "0    111\n",
       "1     97\n",
       "Name: count, dtype: int64"
      ]
     },
     "execution_count": 51,
     "metadata": {},
     "output_type": "execute_result"
    }
   ],
   "source": [
    "y.value_counts()"
   ]
  },
  {
   "cell_type": "code",
   "execution_count": 52,
   "id": "0589af92-3ed0-46fa-86c8-40db03b497da",
   "metadata": {},
   "outputs": [],
   "source": [
    "from sklearn.model_selection import train_test_split\n",
    "x_train, x_test, y_train, y_test = train_test_split(x,y,test_size=0.25,random_state=1)"
   ]
  },
  {
   "cell_type": "code",
   "execution_count": 53,
   "id": "44f4d848-7998-4ee2-b817-aefea6068571",
   "metadata": {},
   "outputs": [
    {
     "data": {
      "text/plain": [
       "((156, 60), (52, 60))"
      ]
     },
     "execution_count": 53,
     "metadata": {},
     "output_type": "execute_result"
    }
   ],
   "source": [
    "x_train.shape, x_test.shape"
   ]
  },
  {
   "cell_type": "code",
   "execution_count": 54,
   "id": "121e3a14-d43e-476a-adf3-7547c63adfa5",
   "metadata": {},
   "outputs": [
    {
     "name": "stdout",
     "output_type": "stream",
     "text": [
      "Epoch 1/100\n",
      "20/20 [==============================] - 1s 1ms/step - loss: 0.6927 - accuracy: 0.5321\n",
      "Epoch 2/100\n",
      "20/20 [==============================] - 0s 2ms/step - loss: 0.6678 - accuracy: 0.5769\n",
      "Epoch 3/100\n",
      "20/20 [==============================] - 0s 1ms/step - loss: 0.6411 - accuracy: 0.7115\n",
      "Epoch 4/100\n",
      "20/20 [==============================] - 0s 1ms/step - loss: 0.6165 - accuracy: 0.7244\n",
      "Epoch 5/100\n",
      "20/20 [==============================] - 0s 1ms/step - loss: 0.5796 - accuracy: 0.7436\n",
      "Epoch 6/100\n",
      "20/20 [==============================] - 0s 1ms/step - loss: 0.5536 - accuracy: 0.7756\n",
      "Epoch 7/100\n",
      "20/20 [==============================] - 0s 944us/step - loss: 0.5571 - accuracy: 0.7244\n",
      "Epoch 8/100\n",
      "20/20 [==============================] - 0s 919us/step - loss: 0.4993 - accuracy: 0.8205\n",
      "Epoch 9/100\n",
      "20/20 [==============================] - 0s 1ms/step - loss: 0.4657 - accuracy: 0.8077\n",
      "Epoch 10/100\n",
      "20/20 [==============================] - 0s 997us/step - loss: 0.4377 - accuracy: 0.8462\n",
      "Epoch 11/100\n",
      "20/20 [==============================] - 0s 1ms/step - loss: 0.4187 - accuracy: 0.8141\n",
      "Epoch 12/100\n",
      "20/20 [==============================] - 0s 1ms/step - loss: 0.4363 - accuracy: 0.8013\n",
      "Epoch 13/100\n",
      "20/20 [==============================] - 0s 1ms/step - loss: 0.3785 - accuracy: 0.8590\n",
      "Epoch 14/100\n",
      "20/20 [==============================] - 0s 1ms/step - loss: 0.4074 - accuracy: 0.8013\n",
      "Epoch 15/100\n",
      "20/20 [==============================] - 0s 1ms/step - loss: 0.3699 - accuracy: 0.8269\n",
      "Epoch 16/100\n",
      "20/20 [==============================] - 0s 1ms/step - loss: 0.3514 - accuracy: 0.8462\n",
      "Epoch 17/100\n",
      "20/20 [==============================] - 0s 997us/step - loss: 0.3578 - accuracy: 0.8462\n",
      "Epoch 18/100\n",
      "20/20 [==============================] - 0s 1ms/step - loss: 0.3154 - accuracy: 0.8718\n",
      "Epoch 19/100\n",
      "20/20 [==============================] - 0s 1ms/step - loss: 0.2967 - accuracy: 0.8846\n",
      "Epoch 20/100\n",
      "20/20 [==============================] - 0s 954us/step - loss: 0.3425 - accuracy: 0.8654\n",
      "Epoch 21/100\n",
      "20/20 [==============================] - 0s 1ms/step - loss: 0.2732 - accuracy: 0.9295\n",
      "Epoch 22/100\n",
      "20/20 [==============================] - 0s 1ms/step - loss: 0.3020 - accuracy: 0.8590\n",
      "Epoch 23/100\n",
      "20/20 [==============================] - 0s 997us/step - loss: 0.2888 - accuracy: 0.8718\n",
      "Epoch 24/100\n",
      "20/20 [==============================] - 0s 1ms/step - loss: 0.2531 - accuracy: 0.9167\n",
      "Epoch 25/100\n",
      "20/20 [==============================] - 0s 2ms/step - loss: 0.2505 - accuracy: 0.9167\n",
      "Epoch 26/100\n",
      "20/20 [==============================] - 0s 1ms/step - loss: 0.2216 - accuracy: 0.9295\n",
      "Epoch 27/100\n",
      "20/20 [==============================] - 0s 976us/step - loss: 0.2658 - accuracy: 0.8654\n",
      "Epoch 28/100\n",
      "20/20 [==============================] - 0s 1ms/step - loss: 0.2205 - accuracy: 0.9167\n",
      "Epoch 29/100\n",
      "20/20 [==============================] - 0s 1ms/step - loss: 0.2250 - accuracy: 0.9231\n",
      "Epoch 30/100\n",
      "20/20 [==============================] - 0s 997us/step - loss: 0.1876 - accuracy: 0.9551\n",
      "Epoch 31/100\n",
      "20/20 [==============================] - 0s 1ms/step - loss: 0.1744 - accuracy: 0.9551\n",
      "Epoch 32/100\n",
      "20/20 [==============================] - 0s 1ms/step - loss: 0.1695 - accuracy: 0.9487\n",
      "Epoch 33/100\n",
      "20/20 [==============================] - 0s 1ms/step - loss: 0.1544 - accuracy: 0.9808\n",
      "Epoch 34/100\n",
      "20/20 [==============================] - 0s 1ms/step - loss: 0.1546 - accuracy: 0.9615\n",
      "Epoch 35/100\n",
      "20/20 [==============================] - 0s 1ms/step - loss: 0.1432 - accuracy: 0.9679\n",
      "Epoch 36/100\n",
      "20/20 [==============================] - 0s 2ms/step - loss: 0.1354 - accuracy: 0.9679\n",
      "Epoch 37/100\n",
      "20/20 [==============================] - 0s 1ms/step - loss: 0.1338 - accuracy: 0.9551\n",
      "Epoch 38/100\n",
      "20/20 [==============================] - 0s 1ms/step - loss: 0.1761 - accuracy: 0.9038\n",
      "Epoch 39/100\n",
      "20/20 [==============================] - 0s 1ms/step - loss: 0.1599 - accuracy: 0.9615\n",
      "Epoch 40/100\n",
      "20/20 [==============================] - 0s 997us/step - loss: 0.1362 - accuracy: 0.9551\n",
      "Epoch 41/100\n",
      "20/20 [==============================] - 0s 996us/step - loss: 0.1018 - accuracy: 0.9808\n",
      "Epoch 42/100\n",
      "20/20 [==============================] - 0s 1ms/step - loss: 0.0896 - accuracy: 0.9872\n",
      "Epoch 43/100\n",
      "20/20 [==============================] - 0s 913us/step - loss: 0.0793 - accuracy: 0.9936\n",
      "Epoch 44/100\n",
      "20/20 [==============================] - 0s 1ms/step - loss: 0.0809 - accuracy: 0.9936\n",
      "Epoch 45/100\n",
      "20/20 [==============================] - 0s 1ms/step - loss: 0.0656 - accuracy: 0.9936\n",
      "Epoch 46/100\n",
      "20/20 [==============================] - 0s 840us/step - loss: 0.0660 - accuracy: 0.9936\n",
      "Epoch 47/100\n",
      "20/20 [==============================] - 0s 2ms/step - loss: 0.0664 - accuracy: 0.9936\n",
      "Epoch 48/100\n",
      "20/20 [==============================] - 0s 1ms/step - loss: 0.0546 - accuracy: 0.9936\n",
      "Epoch 49/100\n",
      "20/20 [==============================] - 0s 982us/step - loss: 0.0529 - accuracy: 0.9936\n",
      "Epoch 50/100\n",
      "20/20 [==============================] - 0s 1ms/step - loss: 0.0572 - accuracy: 0.9872\n",
      "Epoch 51/100\n",
      "20/20 [==============================] - 0s 1ms/step - loss: 0.0452 - accuracy: 1.0000\n",
      "Epoch 52/100\n",
      "20/20 [==============================] - 0s 839us/step - loss: 0.0471 - accuracy: 0.9936\n",
      "Epoch 53/100\n",
      "20/20 [==============================] - 0s 892us/step - loss: 0.0529 - accuracy: 0.9936\n",
      "Epoch 54/100\n",
      "20/20 [==============================] - 0s 839us/step - loss: 0.0424 - accuracy: 0.9936\n",
      "Epoch 55/100\n",
      "20/20 [==============================] - 0s 892us/step - loss: 0.0349 - accuracy: 1.0000\n",
      "Epoch 56/100\n",
      "20/20 [==============================] - 0s 840us/step - loss: 0.0480 - accuracy: 0.9936\n",
      "Epoch 57/100\n",
      "20/20 [==============================] - 0s 944us/step - loss: 0.0378 - accuracy: 1.0000\n",
      "Epoch 58/100\n",
      "20/20 [==============================] - 0s 945us/step - loss: 0.0314 - accuracy: 1.0000\n",
      "Epoch 59/100\n",
      "20/20 [==============================] - 0s 840us/step - loss: 0.0261 - accuracy: 1.0000\n",
      "Epoch 60/100\n",
      "20/20 [==============================] - 0s 944us/step - loss: 0.0721 - accuracy: 0.9551\n",
      "Epoch 61/100\n",
      "20/20 [==============================] - 0s 892us/step - loss: 0.0903 - accuracy: 0.9679\n",
      "Epoch 62/100\n",
      "20/20 [==============================] - 0s 840us/step - loss: 0.0730 - accuracy: 0.9808\n",
      "Epoch 63/100\n",
      "20/20 [==============================] - 0s 787us/step - loss: 0.0405 - accuracy: 0.9936\n",
      "Epoch 64/100\n",
      "20/20 [==============================] - 0s 892us/step - loss: 0.0395 - accuracy: 0.9872\n",
      "Epoch 65/100\n",
      "20/20 [==============================] - 0s 839us/step - loss: 0.0178 - accuracy: 0.9936\n",
      "Epoch 66/100\n",
      "20/20 [==============================] - 0s 840us/step - loss: 0.0187 - accuracy: 1.0000\n",
      "Epoch 67/100\n",
      "20/20 [==============================] - 0s 1ms/step - loss: 0.0153 - accuracy: 1.0000\n",
      "Epoch 68/100\n",
      "20/20 [==============================] - 0s 944us/step - loss: 0.0138 - accuracy: 1.0000\n",
      "Epoch 69/100\n",
      "20/20 [==============================] - 0s 892us/step - loss: 0.0142 - accuracy: 1.0000\n",
      "Epoch 70/100\n",
      "20/20 [==============================] - 0s 997us/step - loss: 0.0115 - accuracy: 1.0000\n",
      "Epoch 71/100\n",
      "20/20 [==============================] - 0s 1ms/step - loss: 0.0106 - accuracy: 1.0000\n",
      "Epoch 72/100\n",
      "20/20 [==============================] - 0s 1ms/step - loss: 0.0103 - accuracy: 1.0000\n",
      "Epoch 73/100\n",
      "20/20 [==============================] - 0s 1ms/step - loss: 0.0117 - accuracy: 1.0000\n",
      "Epoch 74/100\n",
      "20/20 [==============================] - 0s 1ms/step - loss: 0.0096 - accuracy: 1.0000\n",
      "Epoch 75/100\n",
      "20/20 [==============================] - 0s 1ms/step - loss: 0.0114 - accuracy: 1.0000\n",
      "Epoch 76/100\n",
      "20/20 [==============================] - 0s 1ms/step - loss: 0.0128 - accuracy: 1.0000\n",
      "Epoch 77/100\n",
      "20/20 [==============================] - 0s 997us/step - loss: 0.0106 - accuracy: 1.0000\n",
      "Epoch 78/100\n",
      "20/20 [==============================] - 0s 935us/step - loss: 0.0077 - accuracy: 1.0000\n",
      "Epoch 79/100\n",
      "20/20 [==============================] - 0s 944us/step - loss: 0.0082 - accuracy: 1.0000\n",
      "Epoch 80/100\n",
      "20/20 [==============================] - 0s 1ms/step - loss: 0.0081 - accuracy: 1.0000\n",
      "Epoch 81/100\n",
      "20/20 [==============================] - 0s 1ms/step - loss: 0.0070 - accuracy: 1.0000\n",
      "Epoch 82/100\n",
      "20/20 [==============================] - 0s 1ms/step - loss: 0.0062 - accuracy: 1.0000\n",
      "Epoch 83/100\n",
      "20/20 [==============================] - 0s 1ms/step - loss: 0.0060 - accuracy: 1.0000\n",
      "Epoch 84/100\n",
      "20/20 [==============================] - 0s 944us/step - loss: 0.0056 - accuracy: 1.0000\n",
      "Epoch 85/100\n",
      "20/20 [==============================] - 0s 2ms/step - loss: 0.0056 - accuracy: 1.0000\n",
      "Epoch 86/100\n",
      "20/20 [==============================] - 0s 1ms/step - loss: 0.0047 - accuracy: 1.0000\n",
      "Epoch 87/100\n",
      "20/20 [==============================] - 0s 865us/step - loss: 0.0049 - accuracy: 1.0000\n",
      "Epoch 88/100\n",
      "20/20 [==============================] - 0s 877us/step - loss: 0.0049 - accuracy: 1.0000\n",
      "Epoch 89/100\n",
      "20/20 [==============================] - 0s 896us/step - loss: 0.0047 - accuracy: 1.0000\n",
      "Epoch 90/100\n",
      "20/20 [==============================] - 0s 952us/step - loss: 0.0045 - accuracy: 1.0000\n",
      "Epoch 91/100\n",
      "20/20 [==============================] - 0s 849us/step - loss: 0.0041 - accuracy: 1.0000\n",
      "Epoch 92/100\n",
      "20/20 [==============================] - 0s 892us/step - loss: 0.0039 - accuracy: 1.0000\n",
      "Epoch 93/100\n",
      "20/20 [==============================] - 0s 840us/step - loss: 0.0037 - accuracy: 1.0000\n",
      "Epoch 94/100\n",
      "20/20 [==============================] - 0s 839us/step - loss: 0.0036 - accuracy: 1.0000\n",
      "Epoch 95/100\n",
      "20/20 [==============================] - 0s 892us/step - loss: 0.0036 - accuracy: 1.0000\n",
      "Epoch 96/100\n",
      "20/20 [==============================] - 0s 839us/step - loss: 0.0033 - accuracy: 1.0000\n",
      "Epoch 97/100\n",
      "20/20 [==============================] - 0s 892us/step - loss: 0.0034 - accuracy: 1.0000\n",
      "Epoch 98/100\n",
      "20/20 [==============================] - 0s 839us/step - loss: 0.0033 - accuracy: 1.0000\n",
      "Epoch 99/100\n",
      "20/20 [==============================] - 0s 892us/step - loss: 0.0030 - accuracy: 1.0000\n",
      "Epoch 100/100\n",
      "20/20 [==============================] - 0s 839us/step - loss: 0.0028 - accuracy: 1.0000\n"
     ]
    },
    {
     "data": {
      "text/plain": [
       "<keras.src.callbacks.History at 0x2ac0c6e6390>"
      ]
     },
     "execution_count": 54,
     "metadata": {},
     "output_type": "execute_result"
    }
   ],
   "source": [
    "model = krs.Sequential([\n",
    "    \n",
    "        krs.layers.Dense(60, input_dim = 60, activation = 'relu'),\n",
    "        krs.layers.Dense(30,activation = 'relu'),\n",
    "        krs.layers.Dense(15,activation = 'relu'),\n",
    "        krs.layers.Dense(1,activation = 'sigmoid')\n",
    "])\n",
    "\n",
    "model.compile(loss = 'binary_crossentropy',optimizer = 'adam',metrics = ['accuracy'])\n",
    "\n",
    "model.fit(x_train, y_train, epochs = 100, batch_size = 8)"
   ]
  },
  {
   "cell_type": "code",
   "execution_count": 55,
   "id": "61f03f2d-c207-4d53-a93a-eb9f0d8ea35f",
   "metadata": {},
   "outputs": [
    {
     "name": "stdout",
     "output_type": "stream",
     "text": [
      "2/2 [==============================] - 0s 2ms/step - loss: 0.8623 - accuracy: 0.7885\n"
     ]
    },
    {
     "data": {
      "text/plain": [
       "[0.8622687458992004, 0.7884615659713745]"
      ]
     },
     "execution_count": 55,
     "metadata": {},
     "output_type": "execute_result"
    }
   ],
   "source": [
    "model.evaluate(x_test, y_test)"
   ]
  },
  {
   "cell_type": "code",
   "execution_count": 56,
   "id": "33de7f6d-97a0-4b57-9013-2fe9f9c6e749",
   "metadata": {},
   "outputs": [
    {
     "name": "stdout",
     "output_type": "stream",
     "text": [
      "2/2 [==============================] - 0s 3ms/step\n",
      "[1.69637542e-06 7.53879070e-01 9.55006838e-01 2.61016521e-05\n",
      " 1.00000000e+00 9.73632753e-01 1.22170664e-01 9.99999881e-01\n",
      " 1.05185361e-04 1.00000000e+00]\n",
      "[0. 1. 1. 0. 1. 1. 0. 1. 0. 1.]\n"
     ]
    }
   ],
   "source": [
    "y_pred = model.predict(x_test).reshape(-1)\n",
    "print(y_pred[:10])\n",
    "\n",
    "#rounding y_pred\n",
    "y_pred  = np.round(y_pred)\n",
    "print(y_pred[:10])"
   ]
  },
  {
   "cell_type": "code",
   "execution_count": 57,
   "id": "1abbc5d0-7f35-4d06-b975-42a892c116d2",
   "metadata": {},
   "outputs": [
    {
     "name": "stdout",
     "output_type": "stream",
     "text": [
      "              precision    recall  f1-score   support\n",
      "\n",
      "           0       0.74      0.93      0.82        27\n",
      "           1       0.89      0.64      0.74        25\n",
      "\n",
      "    accuracy                           0.79        52\n",
      "   macro avg       0.81      0.78      0.78        52\n",
      "weighted avg       0.81      0.79      0.78        52\n",
      "\n"
     ]
    }
   ],
   "source": [
    "from sklearn.metrics import confusion_matrix , classification_report\n",
    "print(classification_report(y_test,y_pred))"
   ]
  },
  {
   "cell_type": "code",
   "execution_count": 62,
   "id": "caebd307-7630-4727-9f0e-66c0db531e23",
   "metadata": {},
   "outputs": [
    {
     "name": "stdout",
     "output_type": "stream",
     "text": [
      "Epoch 1/100\n",
      "20/20 [==============================] - 1s 1ms/step - loss: 0.7115 - accuracy: 0.5128\n",
      "Epoch 2/100\n",
      "20/20 [==============================] - 0s 1ms/step - loss: 0.6985 - accuracy: 0.5705\n",
      "Epoch 3/100\n",
      "20/20 [==============================] - 0s 2ms/step - loss: 0.6940 - accuracy: 0.5256\n",
      "Epoch 4/100\n",
      "20/20 [==============================] - 0s 1ms/step - loss: 0.6844 - accuracy: 0.5833\n",
      "Epoch 5/100\n",
      "20/20 [==============================] - 0s 1ms/step - loss: 0.6867 - accuracy: 0.5897\n",
      "Epoch 6/100\n",
      "20/20 [==============================] - 0s 1ms/step - loss: 0.6981 - accuracy: 0.4808\n",
      "Epoch 7/100\n",
      "20/20 [==============================] - 0s 1ms/step - loss: 0.7013 - accuracy: 0.5192\n",
      "Epoch 8/100\n",
      "20/20 [==============================] - 0s 2ms/step - loss: 0.6943 - accuracy: 0.5128\n",
      "Epoch 9/100\n",
      "20/20 [==============================] - 0s 1ms/step - loss: 0.6686 - accuracy: 0.5641\n",
      "Epoch 10/100\n",
      "20/20 [==============================] - 0s 2ms/step - loss: 0.6818 - accuracy: 0.5321\n",
      "Epoch 11/100\n",
      "20/20 [==============================] - 0s 1ms/step - loss: 0.6772 - accuracy: 0.5513\n",
      "Epoch 12/100\n",
      "20/20 [==============================] - 0s 1ms/step - loss: 0.6906 - accuracy: 0.5321\n",
      "Epoch 13/100\n",
      "20/20 [==============================] - 0s 1ms/step - loss: 0.6777 - accuracy: 0.5449\n",
      "Epoch 14/100\n",
      "20/20 [==============================] - 0s 1ms/step - loss: 0.6722 - accuracy: 0.5449\n",
      "Epoch 15/100\n",
      "20/20 [==============================] - 0s 1ms/step - loss: 0.6831 - accuracy: 0.5513\n",
      "Epoch 16/100\n",
      "20/20 [==============================] - 0s 975us/step - loss: 0.6910 - accuracy: 0.4679\n",
      "Epoch 17/100\n",
      "20/20 [==============================] - 0s 972us/step - loss: 0.6752 - accuracy: 0.5385\n",
      "Epoch 18/100\n",
      "20/20 [==============================] - 0s 999us/step - loss: 0.6928 - accuracy: 0.5577\n",
      "Epoch 19/100\n",
      "20/20 [==============================] - 0s 973us/step - loss: 0.6713 - accuracy: 0.5769\n",
      "Epoch 20/100\n",
      "20/20 [==============================] - 0s 1ms/step - loss: 0.6543 - accuracy: 0.5769\n",
      "Epoch 21/100\n",
      "20/20 [==============================] - 0s 959us/step - loss: 0.6732 - accuracy: 0.6090\n",
      "Epoch 22/100\n",
      "20/20 [==============================] - 0s 1ms/step - loss: 0.6700 - accuracy: 0.5833\n",
      "Epoch 23/100\n",
      "20/20 [==============================] - 0s 1ms/step - loss: 0.6465 - accuracy: 0.5769\n",
      "Epoch 24/100\n",
      "20/20 [==============================] - 0s 1ms/step - loss: 0.6311 - accuracy: 0.6218\n",
      "Epoch 25/100\n",
      "20/20 [==============================] - 0s 1ms/step - loss: 0.6465 - accuracy: 0.6026\n",
      "Epoch 26/100\n",
      "20/20 [==============================] - 0s 1ms/step - loss: 0.6414 - accuracy: 0.6090\n",
      "Epoch 27/100\n",
      "20/20 [==============================] - 0s 1ms/step - loss: 0.6494 - accuracy: 0.6218\n",
      "Epoch 28/100\n",
      "20/20 [==============================] - 0s 2ms/step - loss: 0.6366 - accuracy: 0.6410\n",
      "Epoch 29/100\n",
      "20/20 [==============================] - 0s 1ms/step - loss: 0.6301 - accuracy: 0.6667\n",
      "Epoch 30/100\n",
      "20/20 [==============================] - 0s 1ms/step - loss: 0.6306 - accuracy: 0.6218\n",
      "Epoch 31/100\n",
      "20/20 [==============================] - 0s 1ms/step - loss: 0.6368 - accuracy: 0.6603\n",
      "Epoch 32/100\n",
      "20/20 [==============================] - 0s 1ms/step - loss: 0.6053 - accuracy: 0.6667\n",
      "Epoch 33/100\n",
      "20/20 [==============================] - 0s 1ms/step - loss: 0.6222 - accuracy: 0.6474\n",
      "Epoch 34/100\n",
      "20/20 [==============================] - 0s 971us/step - loss: 0.5779 - accuracy: 0.7372\n",
      "Epoch 35/100\n",
      "20/20 [==============================] - 0s 1ms/step - loss: 0.6072 - accuracy: 0.6667\n",
      "Epoch 36/100\n",
      "20/20 [==============================] - 0s 1ms/step - loss: 0.5811 - accuracy: 0.6923\n",
      "Epoch 37/100\n",
      "20/20 [==============================] - 0s 1ms/step - loss: 0.6034 - accuracy: 0.6859\n",
      "Epoch 38/100\n",
      "20/20 [==============================] - 0s 1ms/step - loss: 0.5472 - accuracy: 0.7500\n",
      "Epoch 39/100\n",
      "20/20 [==============================] - 0s 947us/step - loss: 0.5728 - accuracy: 0.7500\n",
      "Epoch 40/100\n",
      "20/20 [==============================] - 0s 2ms/step - loss: 0.5408 - accuracy: 0.7308\n",
      "Epoch 41/100\n",
      "20/20 [==============================] - 0s 2ms/step - loss: 0.5367 - accuracy: 0.7372\n",
      "Epoch 42/100\n",
      "20/20 [==============================] - 0s 1ms/step - loss: 0.5411 - accuracy: 0.7436\n",
      "Epoch 43/100\n",
      "20/20 [==============================] - 0s 1ms/step - loss: 0.5285 - accuracy: 0.7436\n",
      "Epoch 44/100\n",
      "20/20 [==============================] - 0s 2ms/step - loss: 0.5347 - accuracy: 0.7372\n",
      "Epoch 45/100\n",
      "20/20 [==============================] - 0s 1ms/step - loss: 0.5365 - accuracy: 0.7436\n",
      "Epoch 46/100\n",
      "20/20 [==============================] - 0s 2ms/step - loss: 0.5090 - accuracy: 0.7756\n",
      "Epoch 47/100\n",
      "20/20 [==============================] - 0s 1ms/step - loss: 0.5279 - accuracy: 0.7308\n",
      "Epoch 48/100\n",
      "20/20 [==============================] - 0s 1ms/step - loss: 0.4790 - accuracy: 0.8462\n",
      "Epoch 49/100\n",
      "20/20 [==============================] - 0s 1ms/step - loss: 0.5107 - accuracy: 0.7821\n",
      "Epoch 50/100\n",
      "20/20 [==============================] - 0s 1ms/step - loss: 0.5322 - accuracy: 0.8077\n",
      "Epoch 51/100\n",
      "20/20 [==============================] - 0s 1ms/step - loss: 0.5212 - accuracy: 0.7628\n",
      "Epoch 52/100\n",
      "20/20 [==============================] - 0s 1ms/step - loss: 0.4868 - accuracy: 0.8077\n",
      "Epoch 53/100\n",
      "20/20 [==============================] - 0s 1ms/step - loss: 0.4750 - accuracy: 0.7500\n",
      "Epoch 54/100\n",
      "20/20 [==============================] - 0s 1ms/step - loss: 0.4953 - accuracy: 0.7500\n",
      "Epoch 55/100\n",
      "20/20 [==============================] - 0s 954us/step - loss: 0.4273 - accuracy: 0.7949\n",
      "Epoch 56/100\n",
      "20/20 [==============================] - 0s 930us/step - loss: 0.4594 - accuracy: 0.8333\n",
      "Epoch 57/100\n",
      "20/20 [==============================] - 0s 875us/step - loss: 0.4964 - accuracy: 0.8077\n",
      "Epoch 58/100\n",
      "20/20 [==============================] - 0s 966us/step - loss: 0.4543 - accuracy: 0.7949\n",
      "Epoch 59/100\n",
      "20/20 [==============================] - 0s 942us/step - loss: 0.4701 - accuracy: 0.7949\n",
      "Epoch 60/100\n",
      "20/20 [==============================] - 0s 1ms/step - loss: 0.5026 - accuracy: 0.7628\n",
      "Epoch 61/100\n",
      "20/20 [==============================] - 0s 1ms/step - loss: 0.4573 - accuracy: 0.7949\n",
      "Epoch 62/100\n",
      "20/20 [==============================] - 0s 1ms/step - loss: 0.4897 - accuracy: 0.7756\n",
      "Epoch 63/100\n",
      "20/20 [==============================] - 0s 1000us/step - loss: 0.4322 - accuracy: 0.7949\n",
      "Epoch 64/100\n",
      "20/20 [==============================] - 0s 972us/step - loss: 0.4787 - accuracy: 0.7628\n",
      "Epoch 65/100\n",
      "20/20 [==============================] - 0s 984us/step - loss: 0.4314 - accuracy: 0.8333\n",
      "Epoch 66/100\n",
      "20/20 [==============================] - 0s 1ms/step - loss: 0.4770 - accuracy: 0.7821\n",
      "Epoch 67/100\n",
      "20/20 [==============================] - 0s 1ms/step - loss: 0.4384 - accuracy: 0.7756\n",
      "Epoch 68/100\n",
      "20/20 [==============================] - 0s 1ms/step - loss: 0.4739 - accuracy: 0.8077\n",
      "Epoch 69/100\n",
      "20/20 [==============================] - 0s 1ms/step - loss: 0.3972 - accuracy: 0.8269\n",
      "Epoch 70/100\n",
      "20/20 [==============================] - 0s 1ms/step - loss: 0.4266 - accuracy: 0.8205\n",
      "Epoch 71/100\n",
      "20/20 [==============================] - 0s 1ms/step - loss: 0.4130 - accuracy: 0.8269\n",
      "Epoch 72/100\n",
      "20/20 [==============================] - 0s 1ms/step - loss: 0.4163 - accuracy: 0.8205\n",
      "Epoch 73/100\n",
      "20/20 [==============================] - 0s 1ms/step - loss: 0.4240 - accuracy: 0.8269\n",
      "Epoch 74/100\n",
      "20/20 [==============================] - 0s 891us/step - loss: 0.3753 - accuracy: 0.8526\n",
      "Epoch 75/100\n",
      "20/20 [==============================] - 0s 911us/step - loss: 0.4171 - accuracy: 0.8397\n",
      "Epoch 76/100\n",
      "20/20 [==============================] - 0s 946us/step - loss: 0.4412 - accuracy: 0.8141\n",
      "Epoch 77/100\n",
      "20/20 [==============================] - 0s 893us/step - loss: 0.3684 - accuracy: 0.8590\n",
      "Epoch 78/100\n",
      "20/20 [==============================] - 0s 1ms/step - loss: 0.3979 - accuracy: 0.8013\n",
      "Epoch 79/100\n",
      "20/20 [==============================] - 0s 874us/step - loss: 0.4192 - accuracy: 0.8526\n",
      "Epoch 80/100\n",
      "20/20 [==============================] - 0s 926us/step - loss: 0.3791 - accuracy: 0.8333\n",
      "Epoch 81/100\n",
      "20/20 [==============================] - 0s 932us/step - loss: 0.3818 - accuracy: 0.8397\n",
      "Epoch 82/100\n",
      "20/20 [==============================] - 0s 945us/step - loss: 0.4018 - accuracy: 0.8397\n",
      "Epoch 83/100\n",
      "20/20 [==============================] - 0s 2ms/step - loss: 0.3930 - accuracy: 0.8397\n",
      "Epoch 84/100\n",
      "20/20 [==============================] - 0s 2ms/step - loss: 0.3982 - accuracy: 0.8718\n",
      "Epoch 85/100\n",
      "20/20 [==============================] - 0s 1ms/step - loss: 0.3994 - accuracy: 0.7949\n",
      "Epoch 86/100\n",
      "20/20 [==============================] - 0s 1ms/step - loss: 0.4007 - accuracy: 0.8397\n",
      "Epoch 87/100\n",
      "20/20 [==============================] - 0s 1ms/step - loss: 0.3871 - accuracy: 0.8590\n",
      "Epoch 88/100\n",
      "20/20 [==============================] - 0s 1ms/step - loss: 0.3643 - accuracy: 0.8654\n",
      "Epoch 89/100\n",
      "20/20 [==============================] - 0s 967us/step - loss: 0.3795 - accuracy: 0.8462\n",
      "Epoch 90/100\n",
      "20/20 [==============================] - 0s 895us/step - loss: 0.3453 - accuracy: 0.8846\n",
      "Epoch 91/100\n",
      "20/20 [==============================] - 0s 984us/step - loss: 0.3045 - accuracy: 0.8654\n",
      "Epoch 92/100\n",
      "20/20 [==============================] - 0s 1ms/step - loss: 0.3471 - accuracy: 0.8654\n",
      "Epoch 93/100\n",
      "20/20 [==============================] - 0s 1ms/step - loss: 0.3935 - accuracy: 0.8333\n",
      "Epoch 94/100\n",
      "20/20 [==============================] - 0s 1ms/step - loss: 0.3620 - accuracy: 0.8333\n",
      "Epoch 95/100\n",
      "20/20 [==============================] - 0s 955us/step - loss: 0.4005 - accuracy: 0.8269\n",
      "Epoch 96/100\n",
      "20/20 [==============================] - 0s 946us/step - loss: 0.3840 - accuracy: 0.8654\n",
      "Epoch 97/100\n",
      "20/20 [==============================] - 0s 997us/step - loss: 0.3321 - accuracy: 0.8397\n",
      "Epoch 98/100\n",
      "20/20 [==============================] - 0s 1ms/step - loss: 0.3397 - accuracy: 0.8910\n",
      "Epoch 99/100\n",
      "20/20 [==============================] - 0s 1ms/step - loss: 0.3657 - accuracy: 0.8397\n",
      "Epoch 100/100\n",
      "20/20 [==============================] - 0s 1ms/step - loss: 0.3002 - accuracy: 0.8846\n"
     ]
    },
    {
     "data": {
      "text/plain": [
       "<keras.src.callbacks.History at 0x2ac112ff290>"
      ]
     },
     "execution_count": 62,
     "metadata": {},
     "output_type": "execute_result"
    }
   ],
   "source": [
    "#dropOutLayer\n",
    "modeld = krs.Sequential([\n",
    "    \n",
    "        krs.layers.Dense(60, input_dim = 60, activation = 'relu'),\n",
    "        krs.layers.Dropout(0.5),\n",
    "        krs.layers.Dense(30,activation = 'relu'),\n",
    "        krs.layers.Dropout(0.5),\n",
    "        krs.layers.Dense(15,activation = 'relu'),\n",
    "        krs.layers.Dropout(0.5),\n",
    "        krs.layers.Dense(1,activation = 'sigmoid')\n",
    "])\n",
    "\n",
    "modeld.compile(loss = 'binary_crossentropy',optimizer = 'adam',metrics = ['accuracy'])\n",
    "\n",
    "modeld.fit(x_train, y_train, epochs = 100, batch_size = 8)"
   ]
  },
  {
   "cell_type": "code",
   "execution_count": 64,
   "id": "2b49deee-8989-423e-8b03-49b19e569fd8",
   "metadata": {},
   "outputs": [
    {
     "name": "stdout",
     "output_type": "stream",
     "text": [
      "2/2 [==============================] - 0s 3ms/step - loss: 0.4302 - accuracy: 0.7692\n"
     ]
    },
    {
     "data": {
      "text/plain": [
       "[0.4301500916481018, 0.7692307829856873]"
      ]
     },
     "execution_count": 64,
     "metadata": {},
     "output_type": "execute_result"
    }
   ],
   "source": [
    "modeld.evaluate(x_test, y_test)"
   ]
  },
  {
   "cell_type": "code",
   "execution_count": 65,
   "id": "9ceda1a7-9cc7-4ae3-a3c0-8aaa5973b205",
   "metadata": {},
   "outputs": [
    {
     "name": "stdout",
     "output_type": "stream",
     "text": [
      "2/2 [==============================] - 0s 3ms/step\n",
      "[7.9556863e-05 8.0268592e-01 9.1748542e-01 9.5873224e-03 9.9375570e-01\n",
      " 8.6832303e-01 3.3762050e-01 9.9262494e-01 1.4540341e-02 9.9638247e-01]\n",
      "[0. 1. 1. 0. 1. 1. 0. 1. 0. 1.]\n"
     ]
    }
   ],
   "source": [
    "yd_pred = modeld.predict(x_test).reshape(-1)\n",
    "print(yd_pred[:10])\n",
    "\n",
    "#rounding y_pred\n",
    "yd_pred  = np.round(yd_pred)\n",
    "print(yd_pred[:10])"
   ]
  },
  {
   "cell_type": "code",
   "execution_count": 66,
   "id": "2b02e790-beeb-42c1-b990-3a75ed7044b7",
   "metadata": {},
   "outputs": [
    {
     "name": "stdout",
     "output_type": "stream",
     "text": [
      "              precision    recall  f1-score   support\n",
      "\n",
      "           0       0.74      0.85      0.79        27\n",
      "           1       0.81      0.68      0.74        25\n",
      "\n",
      "    accuracy                           0.77        52\n",
      "   macro avg       0.78      0.77      0.77        52\n",
      "weighted avg       0.77      0.77      0.77        52\n",
      "\n"
     ]
    }
   ],
   "source": [
    "from sklearn.metrics import confusion_matrix , classification_report\n",
    "print(classification_report(y_test,yd_pred))"
   ]
  },
  {
   "cell_type": "code",
   "execution_count": null,
   "id": "e3f5dc5f-d146-4dea-91b2-c797b520da85",
   "metadata": {},
   "outputs": [],
   "source": []
  }
 ],
 "metadata": {
  "kernelspec": {
   "display_name": "Python 3 (ipykernel)",
   "language": "python",
   "name": "python3"
  },
  "language_info": {
   "codemirror_mode": {
    "name": "ipython",
    "version": 3
   },
   "file_extension": ".py",
   "mimetype": "text/x-python",
   "name": "python",
   "nbconvert_exporter": "python",
   "pygments_lexer": "ipython3",
   "version": "3.11.5"
  }
 },
 "nbformat": 4,
 "nbformat_minor": 5
}
