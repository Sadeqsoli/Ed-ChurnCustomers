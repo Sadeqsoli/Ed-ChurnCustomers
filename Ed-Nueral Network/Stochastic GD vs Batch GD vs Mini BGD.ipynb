{
 "cells": [
  {
   "cell_type": "code",
   "execution_count": 2,
   "id": "0d3f806a-bcd0-439d-a30f-5004a5323e73",
   "metadata": {},
   "outputs": [],
   "source": [
    "import pandas as pd\n",
    "import numpy as np\n",
    "from matplotlib import pyplot as plt\n",
    "%matplotlib inline"
   ]
  },
  {
   "cell_type": "code",
   "execution_count": 3,
   "id": "25806715-dd70-4e8d-9708-fd6e6c921dc4",
   "metadata": {},
   "outputs": [
    {
     "data": {
      "text/html": [
       "<div>\n",
       "<style scoped>\n",
       "    .dataframe tbody tr th:only-of-type {\n",
       "        vertical-align: middle;\n",
       "    }\n",
       "\n",
       "    .dataframe tbody tr th {\n",
       "        vertical-align: top;\n",
       "    }\n",
       "\n",
       "    .dataframe thead th {\n",
       "        text-align: right;\n",
       "    }\n",
       "</style>\n",
       "<table border=\"1\" class=\"dataframe\">\n",
       "  <thead>\n",
       "    <tr style=\"text-align: right;\">\n",
       "      <th></th>\n",
       "      <th>area</th>\n",
       "      <th>bedrooms</th>\n",
       "      <th>price</th>\n",
       "    </tr>\n",
       "  </thead>\n",
       "  <tbody>\n",
       "    <tr>\n",
       "      <th>0</th>\n",
       "      <td>1056</td>\n",
       "      <td>2</td>\n",
       "      <td>39.07</td>\n",
       "    </tr>\n",
       "    <tr>\n",
       "      <th>1</th>\n",
       "      <td>2600</td>\n",
       "      <td>4</td>\n",
       "      <td>120.00</td>\n",
       "    </tr>\n",
       "    <tr>\n",
       "      <th>2</th>\n",
       "      <td>1440</td>\n",
       "      <td>3</td>\n",
       "      <td>62.00</td>\n",
       "    </tr>\n",
       "    <tr>\n",
       "      <th>3</th>\n",
       "      <td>1521</td>\n",
       "      <td>3</td>\n",
       "      <td>75.00</td>\n",
       "    </tr>\n",
       "    <tr>\n",
       "      <th>4</th>\n",
       "      <td>1200</td>\n",
       "      <td>2</td>\n",
       "      <td>51.00</td>\n",
       "    </tr>\n",
       "  </tbody>\n",
       "</table>\n",
       "</div>"
      ],
      "text/plain": [
       "   area  bedrooms   price\n",
       "0  1056         2   39.07\n",
       "1  2600         4  120.00\n",
       "2  1440         3   62.00\n",
       "3  1521         3   75.00\n",
       "4  1200         2   51.00"
      ]
     },
     "execution_count": 3,
     "metadata": {},
     "output_type": "execute_result"
    }
   ],
   "source": [
    "df = pd.read_csv(\"data/homeprices_banglore.csv\")\n",
    "df.head()"
   ]
  },
  {
   "cell_type": "code",
   "execution_count": 7,
   "id": "4c35f3cc-c7e6-4629-b2e7-5f0427702be8",
   "metadata": {},
   "outputs": [
    {
     "data": {
      "text/plain": [
       "array([[0.05237037],\n",
       "       [0.65185185],\n",
       "       [0.22222222],\n",
       "       [0.31851852],\n",
       "       [0.14074074],\n",
       "       [0.04444444],\n",
       "       [0.76296296],\n",
       "       [0.91111111],\n",
       "       [0.13333333],\n",
       "       [1.        ],\n",
       "       [0.37037037],\n",
       "       [0.8       ],\n",
       "       [0.04444444],\n",
       "       [0.05925926],\n",
       "       [0.51111111],\n",
       "       [0.07407407],\n",
       "       [0.11851852],\n",
       "       [0.20740741],\n",
       "       [0.51851852],\n",
       "       [0.        ]])"
      ]
     },
     "execution_count": 7,
     "metadata": {},
     "output_type": "execute_result"
    }
   ],
   "source": [
    "from sklearn import preprocessing as pr\n",
    "\n",
    "sx = pr.MinMaxScaler()\n",
    "sy = pr.MinMaxScaler()\n",
    "\n",
    "scaled_x = sx.fit_transform(df.drop('price', axis = 'columns')) \n",
    "scaled_y = sy.fit_transform(df['price'].values.reshape(df.shape[0],1)) \n",
    "scaled_y"
   ]
  },
  {
   "cell_type": "code",
   "execution_count": 8,
   "id": "cf101a80-2375-4a2f-8acf-a5162fd8b92e",
   "metadata": {},
   "outputs": [
    {
     "data": {
      "text/plain": [
       "array([1., 1.])"
      ]
     },
     "execution_count": 8,
     "metadata": {},
     "output_type": "execute_result"
    }
   ],
   "source": [
    "np.ones(shape=(2))"
   ]
  },
  {
   "cell_type": "code",
   "execution_count": null,
   "id": "4779def0-409f-401c-affa-16a5e224ee0e",
   "metadata": {},
   "outputs": [],
   "source": [
    "#batch_gradient_descent"
   ]
  },
  {
   "cell_type": "code",
   "execution_count": 9,
   "id": "072b569d-cdde-42b6-b3cf-f2bdf335f57d",
   "metadata": {},
   "outputs": [
    {
     "data": {
      "text/plain": [
       "(array([0.70712464, 0.67456527]), -0.23034857438407422, 0.0068641890429808105)"
      ]
     },
     "execution_count": 9,
     "metadata": {},
     "output_type": "execute_result"
    }
   ],
   "source": [
    "def batch_gradient_descent(X, y_true, epochs, learning_rate = 0.01):\n",
    "\n",
    "    feature_number = X.shape[1]\n",
    "\n",
    "    w = np.ones(shape=(feature_number))\n",
    "    b = 0\n",
    "    total_samples = X.shape[0]\n",
    "    cost_list = []\n",
    "    epoch_list = []\n",
    "    for i in range(epochs):\n",
    "        y_pre = np.dot(w, scaled_x.T) + b # w1 * area + w2 * bedroom + bias\n",
    "\n",
    "        w_grad = -(2/total_samples)* (X.T.dot(y_true - y_pre))\n",
    "        b_grad = -(2/total_samples)* np.sum(y_true - y_pre)\n",
    "\n",
    "        w = w - learning_rate * w_grad\n",
    "        b = b - learning_rate * b_grad\n",
    "\n",
    "        cost = np.mean(np.square(y_true - y_pre))\n",
    "\n",
    "        if i% 10 == 0:\n",
    "            cost_list.append(cost)\n",
    "            epoch_list.append(i)\n",
    "\n",
    "    return w,b, cost , cost_list, epoch_list\n",
    "\n",
    "w,b, cost , cost_list, epoch_list = batch_gradient_descent(scaled_x,scaled_y.reshape(scaled_y.shape[0],),500)\n",
    "w,b, cost"
   ]
  },
  {
   "cell_type": "code",
   "execution_count": 10,
   "id": "1a3da926-42c7-4fff-b6cf-a8d8edb4edb7",
   "metadata": {},
   "outputs": [
    {
     "data": {
      "text/plain": [
       "[<matplotlib.lines.Line2D at 0x1c77fb30310>]"
      ]
     },
     "execution_count": 10,
     "metadata": {},
     "output_type": "execute_result"
    },
    {
     "data": {
      "image/png": "[encoded data removed]",
      "text/plain": [
       "<Figure size 640x480 with 1 Axes>"
      ]
     },
     "metadata": {},
     "output_type": "display_data"
    }
   ],
   "source": [
    "plt.xlabel('epoch')\n",
    "plt.ylabel('cost')\n",
    "plt.plot(epoch_list,cost_list)"
   ]
  },
  {
   "cell_type": "code",
   "execution_count": 14,
   "id": "f645674f-9758-41e7-981d-7f86d439a531",
   "metadata": {},
   "outputs": [
    {
     "name": "stderr",
     "output_type": "stream",
     "text": [
      "C:\\Users\\NoteBook\\AppData\\Local\\Programs\\Python\\Python311\\Lib\\site-packages\\sklearn\\base.py:465: UserWarning: X does not have valid feature names, but MinMaxScaler was fitted with feature names\n",
      "  warnings.warn(\n"
     ]
    },
    {
     "data": {
      "text/plain": [
       "128.45484403267596"
      ]
     },
     "execution_count": 14,
     "metadata": {},
     "output_type": "execute_result"
    }
   ],
   "source": [
    "def predict(area, bedroom, w,b):\n",
    "    scaled_x = sx.transform([[area, bedroom]])[0]\n",
    "    scaled_price = w[0]* scaled_x[0] + w[1] * scaled_x[1] + b\n",
    "    return sy.inverse_transform([[scaled_price]])[0][0]\n",
    "\n",
    "predict(2600,4,w,b)"
   ]
  },
  {
   "cell_type": "code",
   "execution_count": 15,
   "id": "db36c824-e1c5-469e-8e1e-394a60bcdf7f",
   "metadata": {},
   "outputs": [
    {
     "name": "stderr",
     "output_type": "stream",
     "text": [
      "C:\\Users\\NoteBook\\AppData\\Local\\Programs\\Python\\Python311\\Lib\\site-packages\\sklearn\\base.py:465: UserWarning: X does not have valid feature names, but MinMaxScaler was fitted with feature names\n",
      "  warnings.warn(\n"
     ]
    },
    {
     "data": {
      "text/plain": [
       "30.253094462442363"
      ]
     },
     "execution_count": 15,
     "metadata": {},
     "output_type": "execute_result"
    }
   ],
   "source": [
    "predict(1000,2,w,b)"
   ]
  },
  {
   "cell_type": "code",
   "execution_count": 18,
   "id": "15c5749a-e202-4cbd-8313-4890eeb4edcc",
   "metadata": {},
   "outputs": [
    {
     "name": "stderr",
     "output_type": "stream",
     "text": [
      "C:\\Users\\NoteBook\\AppData\\Local\\Programs\\Python\\Python311\\Lib\\site-packages\\sklearn\\base.py:465: UserWarning: X does not have valid feature names, but MinMaxScaler was fitted with feature names\n",
      "  warnings.warn(\n"
     ]
    },
    {
     "data": {
      "text/plain": [
       "69.47860785714694"
      ]
     },
     "execution_count": 18,
     "metadata": {},
     "output_type": "execute_result"
    }
   ],
   "source": [
    "predict(1500,3,w,b)"
   ]
  },
  {
   "cell_type": "code",
   "execution_count": null,
   "id": "32dda88a-f89d-4496-a9cd-3275495d3fe3",
   "metadata": {},
   "outputs": [],
   "source": [
    "#Stochastic_gradient_descent"
   ]
  },
  {
   "cell_type": "code",
   "execution_count": 20,
   "id": "be641531-dd54-40e9-941a-5a5081c0dcae",
   "metadata": {},
   "outputs": [
    {
     "data": {
      "text/plain": [
       "6"
      ]
     },
     "execution_count": 20,
     "metadata": {},
     "output_type": "execute_result"
    }
   ],
   "source": [
    "import random\n",
    "random.randint(0,6)"
   ]
  },
  {
   "cell_type": "code",
   "execution_count": 21,
   "id": "24f84610-20ad-49b3-b59c-102cb5161a41",
   "metadata": {},
   "outputs": [
    {
     "data": {
      "text/plain": [
       "(array([0.70805783, 0.67481119]), -0.23114921901896834, 0.0002745757825594962)"
      ]
     },
     "execution_count": 21,
     "metadata": {},
     "output_type": "execute_result"
    }
   ],
   "source": [
    "def stochastic_gradient_descent(X, y_true, epochs, learning_rate = 0.01):\n",
    "\n",
    "    feature_number = X.shape[1]\n",
    "\n",
    "    w = np.ones(shape=(feature_number))\n",
    "    b = 0\n",
    "    total_samples = X.shape[0]\n",
    "    cost_list = []\n",
    "    epoch_list = []\n",
    "    for i in range(epochs):\n",
    "        random_index = random.randint(0, total_samples -1)\n",
    "        sample_x = X[random_index]\n",
    "        sample_y = y_true[random_index]\n",
    "        \n",
    "        y_pre = np.dot(w, sample_x.T) + b # w1 * area + w2 * bedroom + bias\n",
    "\n",
    "        w_grad = -(2/total_samples)* (sample_x.T.dot(sample_y - y_pre))\n",
    "        b_grad = -(2/total_samples)* np.sum(sample_y - y_pre)\n",
    "\n",
    "        w = w - learning_rate * w_grad\n",
    "        b = b - learning_rate * b_grad\n",
    "\n",
    "        cost = np.square(sample_y - y_pre)\n",
    "\n",
    "        if i% 10 == 0:\n",
    "            cost_list.append(cost)\n",
    "            epoch_list.append(i)\n",
    "\n",
    "    return w,b, cost , cost_list, epoch_list\n",
    "\n",
    "w_sgd,b_sgd, cost_sgd , cost_list_sgd, epoch_list_sgd = stochastic_gradient_descent(scaled_x,scaled_y.reshape(scaled_y.shape[0],),10000)\n",
    "w_sgd,b_sgd, cost_sgd"
   ]
  },
  {
   "cell_type": "code",
   "execution_count": 22,
   "id": "a2228f6c-7bcd-4e23-92aa-df5b44fe1514",
   "metadata": {},
   "outputs": [
    {
     "data": {
      "text/plain": [
       "(array([0.70712464, 0.67456527]), -0.23034857438407422, 0.0068641890429808105)"
      ]
     },
     "execution_count": 22,
     "metadata": {},
     "output_type": "execute_result"
    }
   ],
   "source": [
    "w,b,cost"
   ]
  },
  {
   "cell_type": "code",
   "execution_count": 23,
   "id": "3a47dd88-2b2c-4c0b-9cc0-1fbb18c9f63b",
   "metadata": {},
   "outputs": [
    {
     "data": {
      "text/plain": [
       "[<matplotlib.lines.Line2D at 0x1c77f2a86d0>]"
      ]
     },
     "execution_count": 23,
     "metadata": {},
     "output_type": "execute_result"
    },
    {
     "data": {
      "image/png": "[encoded data removed]",
      "text/plain": [
       "<Figure size 640x480 with 1 Axes>"
      ]
     },
     "metadata": {},
     "output_type": "display_data"
    }
   ],
   "source": [
    "plt.xlabel('epoch')\n",
    "plt.ylabel('cost')\n",
    "plt.plot(epoch_list_sgd,cost_list_sgd)"
   ]
  },
  {
   "cell_type": "code",
   "execution_count": 24,
   "id": "7864aea1-d545-412f-b240-4065630c29e5",
   "metadata": {},
   "outputs": [
    {
     "name": "stderr",
     "output_type": "stream",
     "text": [
      "C:\\Users\\NoteBook\\AppData\\Local\\Programs\\Python\\Python311\\Lib\\site-packages\\sklearn\\base.py:465: UserWarning: X does not have valid feature names, but MinMaxScaler was fitted with feature names\n",
      "  warnings.warn(\n"
     ]
    },
    {
     "data": {
      "text/plain": [
       "128.449851486617"
      ]
     },
     "execution_count": 24,
     "metadata": {},
     "output_type": "execute_result"
    }
   ],
   "source": [
    "predict(2600,4,w_sgd,b_sgd)"
   ]
  },
  {
   "cell_type": "code",
   "execution_count": 35,
   "id": "bd65743b-5c2b-4e99-878d-5624ddc43378",
   "metadata": {},
   "outputs": [
    {
     "name": "stdout",
     "output_type": "stream",
     "text": [
      "20\n",
      "Weights: [0.67110387 0.53381704]\n",
      "Bias: -0.14373474765221192\n",
      "Final Cost: 0.004165516605829237\n"
     ]
    }
   ],
   "source": [
    "import numpy as np\n",
    "\n",
    "def mini_batch_gradient_descent(X, y_true, epochs, batch_size, learning_rate=0.01):\n",
    "\n",
    "    feature_number = X.shape[1]\n",
    "    total_samples = X.shape[0]\n",
    "    print(total_samples)\n",
    "    w = np.ones(shape=(feature_number))\n",
    "    b = 0\n",
    "    cost_list = []\n",
    "    epoch_list = []\n",
    "\n",
    "    for epoch in range(epochs):\n",
    "        # Shuffle the data to randomize mini-batches in each epoch\n",
    "        indices = np.random.permutation(total_samples)\n",
    "        X_shuffled = X[indices]\n",
    "        y_shuffled = y_true[indices]\n",
    "\n",
    "        for i in range(0, total_samples, batch_size):\n",
    "            # Get mini-batch\n",
    "            X_batch = X_shuffled[i:i+batch_size]\n",
    "            y_batch = y_shuffled[i:i+batch_size]\n",
    "\n",
    "            # Forward pass\n",
    "            y_pred = np.dot(X_batch, w) + b\n",
    "\n",
    "            # Compute gradients\n",
    "            w_grad = -(2/len(X_batch)) * (X_batch.T.dot(y_batch - y_pred))\n",
    "            b_grad = -(2/len(X_batch)) * np.sum(y_batch - y_pred)\n",
    "\n",
    "            # Update parameters\n",
    "            w -= learning_rate * w_grad\n",
    "            b -= learning_rate * b_grad\n",
    "\n",
    "        # Compute cost for the epoch\n",
    "        y_pred = np.dot(X, w) + b\n",
    "        cost = np.mean(np.square(y_true - y_pred))\n",
    "\n",
    "        # Store cost and epoch for visualization\n",
    "        if epoch % 10 == 0:\n",
    "            cost_list.append(cost)\n",
    "            epoch_list.append(epoch)\n",
    "\n",
    "    return w, b, cost, cost_list, epoch_list\n",
    "\n",
    "# Assuming you have scaled_x and scaled_y defined somewhere\n",
    "w_mbgd, b_mbgd, cost_mbgd, cost_list, epoch_list = mini_batch_gradient_descent(scaled_x, scaled_y.reshape(scaled_y.shape[0],), 2000, batch_size=32)\n",
    "print(\"Weights:\", w_mbgd)\n",
    "print(\"Bias:\", b_mbgd)\n",
    "print(\"Final Cost:\", cost_mbgd)\n"
   ]
  },
  {
   "cell_type": "code",
   "execution_count": 33,
   "id": "fc465997-1754-4504-94e2-66f445f750f7",
   "metadata": {},
   "outputs": [
    {
     "name": "stderr",
     "output_type": "stream",
     "text": [
      "C:\\Users\\NoteBook\\AppData\\Local\\Programs\\Python\\Python311\\Lib\\site-packages\\sklearn\\base.py:465: UserWarning: X does not have valid feature names, but MinMaxScaler was fitted with feature names\n",
      "  warnings.warn(\n"
     ]
    },
    {
     "data": {
      "text/plain": [
       "122.87866071742575"
      ]
     },
     "execution_count": 33,
     "metadata": {},
     "output_type": "execute_result"
    }
   ],
   "source": [
    "predict(2600,4,w_mbgd,b_mbgd)"
   ]
  },
  {
   "cell_type": "code",
   "execution_count": null,
   "id": "f73d3e1d-07f0-4893-8fb1-e6fe3b2508ef",
   "metadata": {},
   "outputs": [],
   "source": []
  }
 ],
 "metadata": {
  "kernelspec": {
   "display_name": "Python 3 (ipykernel)",
   "language": "python",
   "name": "python3"
  },
  "language_info": {
   "codemirror_mode": {
    "name": "ipython",
    "version": 3
   },
   "file_extension": ".py",
   "mimetype": "text/x-python",
   "name": "python",
   "nbconvert_exporter": "python",
   "pygments_lexer": "ipython3",
   "version": "3.11.5"
  }
 },
 "nbformat": 4,
 "nbformat_minor": 5
}
