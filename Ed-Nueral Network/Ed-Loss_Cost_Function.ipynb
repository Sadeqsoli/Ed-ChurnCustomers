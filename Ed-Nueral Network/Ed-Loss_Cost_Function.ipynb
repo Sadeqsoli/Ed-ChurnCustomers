{
 "cells": [
  {
   "cell_type": "code",
   "execution_count": 24,
   "id": "7432819c-637c-45c5-ab8b-fa0d087705f7",
   "metadata": {},
   "outputs": [],
   "source": [
    "import numpy as np\n",
    "\n",
    "y_predicted = np.array([1,1,0,0,1])\n",
    "y_true = np.array([0.30,0.7,1,0,0.5])"
   ]
  },
  {
   "cell_type": "code",
   "execution_count": 25,
   "id": "cc5f0520-99d6-45a5-b4dc-44db32034b0e",
   "metadata": {},
   "outputs": [],
   "source": [
    "def mae(y_predicted, y_true):\n",
    "    total_error = 0\n",
    "    for yp,yt in zip(y_predicted,y_true):\n",
    "        total_error += abs(yt-yp)\n",
    "    print(total_error)\n",
    "    mae = total_error / len(y_true)\n",
    "    return mae"
   ]
  },
  {
   "cell_type": "code",
   "execution_count": 26,
   "id": "7f92eae5-0d28-41a6-93ec-2acc363ed437",
   "metadata": {},
   "outputs": [
    {
     "name": "stdout",
     "output_type": "stream",
     "text": [
      "2.5\n"
     ]
    },
    {
     "data": {
      "text/plain": [
       "0.5"
      ]
     },
     "execution_count": 26,
     "metadata": {},
     "output_type": "execute_result"
    }
   ],
   "source": [
    "min = mae(y_predicted,y_true)\n",
    "min"
   ]
  },
  {
   "cell_type": "code",
   "execution_count": 27,
   "id": "225b8c4c-b69c-4a89-a4c8-68e1ab3923e2",
   "metadata": {},
   "outputs": [
    {
     "data": {
      "text/plain": [
       "2.5"
      ]
     },
     "execution_count": 27,
     "metadata": {},
     "output_type": "execute_result"
    }
   ],
   "source": [
    "#Absolute Error\n",
    "np.sum(np.abs(y_predicted - y_true))"
   ]
  },
  {
   "cell_type": "code",
   "execution_count": 28,
   "id": "814fee2f-28ae-436a-823e-b3bc9f10b563",
   "metadata": {},
   "outputs": [
    {
     "data": {
      "text/plain": [
       "0.5"
      ]
     },
     "execution_count": 28,
     "metadata": {},
     "output_type": "execute_result"
    }
   ],
   "source": [
    "#MeanAbsolute Error\n",
    "np.mean(np.abs(y_predicted - y_true))"
   ]
  },
  {
   "cell_type": "code",
   "execution_count": 29,
   "id": "24936e67-3de0-41a6-ad19-fbd4d913c119",
   "metadata": {},
   "outputs": [
    {
     "data": {
      "text/plain": [
       "array([1, 1, 0, 0, 1])"
      ]
     },
     "execution_count": 29,
     "metadata": {},
     "output_type": "execute_result"
    }
   ],
   "source": [
    "#Log Loss or Cross Binary Entropy\n",
    "epsilon = 1e-15\n",
    "y_predicted"
   ]
  },
  {
   "cell_type": "code",
   "execution_count": 36,
   "id": "86af18cd-6112-4867-ac39-f088cdb8fe6b",
   "metadata": {},
   "outputs": [
    {
     "name": "stdout",
     "output_type": "stream",
     "text": [
      "[1.e+00 1.e+00 1.e-15 1.e-15 1.e+00]\n"
     ]
    }
   ],
   "source": [
    "# Using numpy.clip to ensure values are within the specified range\n",
    "y_predicted_new = np.clip(y_predicted, epsilon, 1-epsilon).astype(np.float64)\n",
    "\n",
    "print(y_predicted_new)"
   ]
  },
  {
   "cell_type": "code",
   "execution_count": 38,
   "id": "94d58303-0b7e-4379-a7a6-7cd50fe9572f",
   "metadata": {},
   "outputs": [
    {
     "data": {
      "text/plain": [
       "array([-9.99200722e-16, -9.99200722e-16, -3.45387764e+01, -3.45387764e+01,\n",
       "       -9.99200722e-16])"
      ]
     },
     "execution_count": 38,
     "metadata": {},
     "output_type": "execute_result"
    }
   ],
   "source": [
    "np.log(y_predicted_new)"
   ]
  },
  {
   "cell_type": "code",
   "execution_count": 40,
   "id": "294428f3-bb40-4797-abe8-90bf473180ef",
   "metadata": {},
   "outputs": [
    {
     "data": {
      "text/plain": [
       "17.2696280766844"
      ]
     },
     "execution_count": 40,
     "metadata": {},
     "output_type": "execute_result"
    }
   ],
   "source": [
    "-np.mean(y_true * np.log(y_predicted_new) + (1 - y_true) * np.log(1 - y_predicted_new))"
   ]
  },
  {
   "cell_type": "code",
   "execution_count": 41,
   "id": "893dd0fc-e4fd-4fbb-8d66-919ded08ed55",
   "metadata": {},
   "outputs": [],
   "source": [
    "def log_loss(y_predicted , y_true):\n",
    "    y_predicted_new = np.clip(y_predicted, epsilon, 1-epsilon).astype(np.float64)\n",
    "    return -np.mean(y_true * np.log(y_predicted_new) + (1 - y_true) * np.log(1 - y_predicted_new))"
   ]
  },
  {
   "cell_type": "code",
   "execution_count": 42,
   "id": "313b74b5-c7f8-43a7-bd7b-029f64c6f449",
   "metadata": {},
   "outputs": [
    {
     "data": {
      "text/plain": [
       "17.2696280766844"
      ]
     },
     "execution_count": 42,
     "metadata": {},
     "output_type": "execute_result"
    }
   ],
   "source": [
    "log_loss(y_predicted , y_true)"
   ]
  },
  {
   "cell_type": "code",
   "execution_count": 47,
   "id": "2661f82c-38e4-4c10-a6ca-b3ab01db66cd",
   "metadata": {},
   "outputs": [],
   "source": [
    "#Mean Square Error\n",
    "def mse(y_true, y_predicted):\n",
    "    total_error = 0\n",
    "    for yt, yp in zip(y_true, y_predicted):\n",
    "        total_error += (yt-yp)**2\n",
    "    print(\"Total Squared Error:\",total_error)\n",
    "    mse = total_error/len(y_true)\n",
    "    print(\"Mean Squared Error:\",mse)"
   ]
  },
  {
   "cell_type": "code",
   "execution_count": 48,
   "id": "337041b9-1ccb-4925-ae21-9628f74fa176",
   "metadata": {},
   "outputs": [
    {
     "name": "stdout",
     "output_type": "stream",
     "text": [
      "Total Squared Error: 1.83\n",
      "Mean Squared Error: 0.366\n"
     ]
    }
   ],
   "source": [
    "mse(y_predicted , y_true)"
   ]
  },
  {
   "cell_type": "code",
   "execution_count": null,
   "id": "b69f132b-2664-4dfa-a9b4-1abfa47560e6",
   "metadata": {},
   "outputs": [],
   "source": [
    "#Mean Square Error using numpy\n",
    "np.mean(np.square(y_true-y_predicted))"
   ]
  }
 ],
 "metadata": {
  "kernelspec": {
   "display_name": "Python 3 (ipykernel)",
   "language": "python",
   "name": "python3"
  },
  "language_info": {
   "codemirror_mode": {
    "name": "ipython",
    "version": 3
   },
   "file_extension": ".py",
   "mimetype": "text/x-python",
   "name": "python",
   "nbconvert_exporter": "python",
   "pygments_lexer": "ipython3",
   "version": "3.11.5"
  }
 },
 "nbformat": 4,
 "nbformat_minor": 5
}
